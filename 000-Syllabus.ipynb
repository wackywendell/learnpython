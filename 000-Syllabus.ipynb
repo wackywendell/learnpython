{
 "cells": [
  {
   "cell_type": "markdown",
   "metadata": {},
   "source": [
    "# Learn to Code: Zero to Sixty Data Analysis\n",
    "### *A Workshop Series for Women*\n",
    "\n",
    "Have you ever wanted to learn to program but didn’t know where to start? Or are you interested in learning more about data visualization or data science? If so, this course is for you! We'll start with the very basics: the first day we'll install Python together, and go from there!"
   ]
  },
  {
   "cell_type": "markdown",
   "metadata": {},
   "source": [
    "#### Important Facts: *the short version*\n",
    "\n",
    " * *Goal*: Learn to code, with data!\n",
    " * *Time*: **Mondays** at **7 PM**, from Oct. 5 to Nov. 9\n",
    " * *Extra*: Open Sessions will be **Thursdays** at **7 PM**.\n",
    " * *Mail*: Sign up to our [mailing list](https://groups.google.com/a/elilists.yale.edu/forum/#!forum/learntocode) for more information.\n",
    " * *Location*: **17 Hillhouse, room 113** on Mondays and **17 Hillhouse, room 05** on Thursdays.\n",
    " * *Tools*: Bring a laptop computer!"
   ]
  },
  {
   "cell_type": "markdown",
   "metadata": {},
   "source": [
    "# Syllabus"
   ]
  },
  {
   "cell_type": "markdown",
   "metadata": {},
   "source": [
    "## Goals\n",
    "\n",
    "We want participants to be able to:\n",
    "\n",
    " * Learn the basics of programming\n",
    " * Learn to import, manipulate, and plot data\n",
    " \n",
    "#### Audience\n",
    "\n",
    "This series is aimed primarily at women with little to no coding experience who wish to be able to work with scientific data or become a data scientist, although it is open to all Yale affiliates."
   ]
  },
  {
   "cell_type": "markdown",
   "metadata": {},
   "source": [
    "### Tools\n",
    "\n",
    "The first workshop will focus primarily on installing and introducing these tools, so you do not need to do this on your own.\n",
    "\n",
    "We will use the [Python 3](http://python.org) programming language, and the [SciPy stack](http://www.scipy.org/about.html). Participants will be expected to bring a computer of their own to work with.\n",
    "\n",
    "These tools can most easily be installed through [Anaconda](http://continuum.io/downloads#34); be sure to select \"I want Python 3.4\"!"
   ]
  },
  {
   "cell_type": "markdown",
   "metadata": {},
   "source": [
    "## Schedule\n",
    "\n",
    "The series will run from Oct. 5 to Nov. 9, with a possible extension depending on interest, demand, and progress."
   ]
  },
  {
   "cell_type": "markdown",
   "metadata": {},
   "source": [
    "### Workshops\n",
    "\n",
    "The main workshop series will be a weekly combination of mini-lectures and interactive activities, where participants will practice coding themselves. Discussing, working together, and asking questions will be strongly encouraged. At the end of the workshop, students will also be given a set of practice problems to keep working on, eiter on their own time, with each other, or at the Open Sessions.\n",
    "\n",
    "Workshops will be held **Mondays from 7–9 PM** in **17 Hillhouse**, room **113**.\n",
    "\n",
    "***Please bring a laptop to all sessions.***\n",
    "\n",
    "#### Sessions\n",
    "\n",
    " * *Oct. 05:* **[Installation and Introduction](001-Intro.html)**: What is Python? Why are we using it? How do I use it?\n",
    "   - [Practice Problems](Problems-001.html)\n",
    " * *Oct. 12:* **[Basic Python](002-Basic_Python.html)**: Expressions, lists, functions, and basic plotting\n",
    "   - [Data file](data/sizeCalibration.txt)\n",
    "   - [Practice Problems](Problems-002.html)\n",
    "   - The [notebook created during class](002-Basic_Python_actual.html)\n",
    " * *Oct. 19:* **[Arrays and Slicing](003-Control_Structures.html)**: Working with lists and arrays\n",
    "   - [Practice Problems](Problems-003.html)\n",
    "     * [Answers](Answers-003.html)\n",
    "   - [Data file](data/puzzle.png)\n",
    " * *Oct. 26:* **[Control Structures](003-Control_Structures.html)** For loops, if statements, and even more plotting\n",
    "   - [Practice Problems](Problems-004.html)\n",
    "     * [Answers](Answers-004.html)\n",
    " * *Nov. 09:* **[Objects](005-objects.html)**, their creation and use\n",
    "   - [Practice Problems](Problems-005.html)\n",
    "     * [Answers](Answers-005.html)\n",
    " * *Nov. 16:* **[Modules](006-modules.html)**, modules, and more modules!\n",
    "   - [Data file](data/taxirides.csv.zip)\n",
    "   - [Practice Problems](Problems-006.html)"
   ]
  },
  {
   "cell_type": "markdown",
   "metadata": {},
   "source": [
    "### Open Sessions\n",
    "\n",
    "On Thursdays an Open Session will be offered. This will be a chance for people to work together on coding and/or plotting challenges, either related to the Workshops or not. Instructors and/or helpers will be present to facilitate group work, answer questions, help debug, or just talk.\n",
    "\n",
    "Open Sessions will be held **Thursdays from 7–9 PM** in **17 Hillhouse**, room **05**."
   ]
  },
  {
   "cell_type": "markdown",
   "metadata": {},
   "source": [
    "### Planning Meeting\n",
    "\n",
    "There will be a planning meeting for all those interested in helping out on Thursday, Oct. 1 in the 17 Hillhouse common area by the entrance at 7 PM. Please feel free to come by and help us plan!"
   ]
  }
 ],
 "metadata": {
  "kernelspec": {
   "display_name": "Python 3",
   "language": "python",
   "name": "python3"
  },
  "language_info": {
   "codemirror_mode": {
    "name": "ipython",
    "version": 3
   },
   "file_extension": ".py",
   "mimetype": "text/x-python",
   "name": "python",
   "nbconvert_exporter": "python",
   "pygments_lexer": "ipython3",
   "version": "3.5.0"
  }
 },
 "nbformat": 4,
 "nbformat_minor": 0
}
