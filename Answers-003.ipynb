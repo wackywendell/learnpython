{
 "cells": [
  {
   "cell_type": "markdown",
   "metadata": {},
   "source": [
    "## Answers"
   ]
  },
  {
   "cell_type": "markdown",
   "metadata": {},
   "source": [
    "### 1)"
   ]
  },
  {
   "cell_type": "code",
   "execution_count": 1,
   "metadata": {
    "collapsed": false
   },
   "outputs": [],
   "source": [
    "inventory = ['pens', 'paper', 'staples', 'paperclips', 'tape', 'crayons', 'highlighters']\n",
    "def do_we_have(item):\n",
    "    \"\"\"Prints out whether or not the item is in stock.\"\"\"\n",
    "    if item in inventory:\n",
    "        print('We have', item, 'in stock!')\n",
    "    else:\n",
    "        print('We are out of', item)"
   ]
  },
  {
   "cell_type": "code",
   "execution_count": 2,
   "metadata": {
    "collapsed": false
   },
   "outputs": [
    {
     "name": "stdout",
     "output_type": "stream",
     "text": [
      "We have staples in stock!\n",
      "We have paper in stock!\n",
      "We are out of pencils\n"
     ]
    }
   ],
   "source": [
    "do_we_have('staples')\n",
    "do_we_have('paper')\n",
    "do_we_have('pencils')"
   ]
  },
  {
   "cell_type": "markdown",
   "metadata": {},
   "source": [
    "### 3)"
   ]
  },
  {
   "cell_type": "code",
   "execution_count": 3,
   "metadata": {
    "collapsed": false
   },
   "outputs": [],
   "source": [
    "def greeter(name):\n",
    "    \"\"\"Prints a customized greeting for a person's name.\"\"\"\n",
    "    if len(name) < 5:\n",
    "        print(\"Hello \" + name + \"! Is that your full name?\")\n",
    "    elif len(name) <= 8:\n",
    "        print(\"Hello \" + name + \"! That's a lovely name!\")\n",
    "    else:\n",
    "        print(\"Hello \" + name + \"! Can I call you \" + name[:3] + \"?\")"
   ]
  },
  {
   "cell_type": "code",
   "execution_count": 4,
   "metadata": {
    "collapsed": false
   },
   "outputs": [
    {
     "name": "stdout",
     "output_type": "stream",
     "text": [
      "Hello Katy! Is that your full name?\n",
      "Hello Manuel! That's a lovely name!\n",
      "Hello Wendell! That's a lovely name!\n",
      "Hello Wendell Smith! Can I call you Wen?\n",
      "Hello Katy Krueger! Can I call you Kat?\n"
     ]
    }
   ],
   "source": [
    "greeter(\"Katy\")\n",
    "greeter(\"Manuel\")\n",
    "greeter(\"Wendell\")\n",
    "greeter(\"Wendell Smith\")\n",
    "greeter(\"Katy Krueger\")"
   ]
  }
 ],
 "metadata": {
  "kernelspec": {
   "display_name": "Python 3",
   "language": "python",
   "name": "python3"
  },
  "language_info": {
   "codemirror_mode": {
    "name": "ipython",
    "version": 3
   },
   "file_extension": ".py",
   "mimetype": "text/x-python",
   "name": "python",
   "nbconvert_exporter": "python",
   "pygments_lexer": "ipython3",
   "version": "3.5.0"
  }
 },
 "nbformat": 4,
 "nbformat_minor": 0
}
