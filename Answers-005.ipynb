{
 "cells": [
  {
   "cell_type": "code",
   "execution_count": 4,
   "metadata": {
    "collapsed": false
   },
   "outputs": [
    {
     "name": "stdout",
     "output_type": "stream",
     "text": [
      "Populating the interactive namespace from numpy and matplotlib\n"
     ]
    }
   ],
   "source": [
    "%pylab inline"
   ]
  },
  {
   "cell_type": "code",
   "execution_count": 7,
   "metadata": {
    "collapsed": true
   },
   "outputs": [],
   "source": [
    "class Person():\n",
    "    \n",
    "    def __init__(self, name, age):\n",
    "        self.name = name\n",
    "        self.age = age\n",
    "        \n",
    "    def __str__(self):\n",
    "        return \"Hi, I am %s, I am %d years old\" %(self.name, self.age)\n",
    "    \n",
    "        "
   ]
  },
  {
   "cell_type": "code",
   "execution_count": 8,
   "metadata": {
    "collapsed": false
   },
   "outputs": [],
   "source": [
    "Lexi = Person(\"Lexi\", 23)"
   ]
  },
  {
   "cell_type": "code",
   "execution_count": 9,
   "metadata": {
    "collapsed": false
   },
   "outputs": [
    {
     "name": "stdout",
     "output_type": "stream",
     "text": [
      "Hi, I am Lexi, I am 23 years old\n"
     ]
    }
   ],
   "source": [
    "print Lexi"
   ]
  },
  {
   "cell_type": "code",
   "execution_count": 29,
   "metadata": {
    "collapsed": true
   },
   "outputs": [],
   "source": [
    "class Student(Person):\n",
    "    def __init__(self, name, age, school, major, gpa, year):\n",
    "        Person.__init__(self,name, age)\n",
    "        self.name = name\n",
    "        self.age = age\n",
    "        self.school = school\n",
    "        self.major = major\n",
    "        self.gpa = gpa\n",
    "        self.year = year\n",
    "    \n",
    "    def __str__(self):\n",
    "        return \"Hi, I am %s, I am a student at %s\" % (self.name, self.school)\n",
    "    \n",
    "    def yearsToGraduation(self):\n",
    "        return (5 - self.year)\n",
    "    \n",
    "    "
   ]
  },
  {
   "cell_type": "code",
   "execution_count": 30,
   "metadata": {
    "collapsed": false
   },
   "outputs": [],
   "source": [
    "Lexi = Student(\"Lexi\", 23, \"Yale\", \"bioinformatics\", 3.5, 3)"
   ]
  },
  {
   "cell_type": "code",
   "execution_count": 32,
   "metadata": {
    "collapsed": false
   },
   "outputs": [
    {
     "name": "stdout",
     "output_type": "stream",
     "text": [
      "Hi, I am Lexi, I am a student at Yale\n",
      "Lexi has 2 years until graduation\n"
     ]
    }
   ],
   "source": [
    "print Lexi\n",
    "print \"Lexi has %d years until graduation\" % Lexi.yearsToGraduation()"
   ]
  },
  {
   "cell_type": "code",
   "execution_count": 56,
   "metadata": {
    "collapsed": false
   },
   "outputs": [],
   "source": [
    "# make a list of students\n",
    "Mike = Student(\"Mike\", 25, \"UConn\", \"physics\", 3.9, 2)\n",
    "Rachel = Student(\"Rachel\", 28, \"Yale\", \"math\", 3.6, 4)\n",
    "Stephanie = Student(\"Stephanie\", 25, \"Southern\", \"biology\", 2.9, 3)\n",
    "Tim = Student(\"Tim\", 28, \"University of New Haven\", \"physics\", 3.5, 4)\n",
    "Megan = Student(\"Megan\", 22, \"Yale\", \"math\", 2.2, 2) \n",
    "Steven = Student(\"Steven\", 26, \"Connecticut College\", \"biology\", 3.4, 4)\n"
   ]
  },
  {
   "cell_type": "code",
   "execution_count": 57,
   "metadata": {
    "collapsed": true
   },
   "outputs": [],
   "source": [
    "students = [Lexi, Mike, Rachel, Stephanie, Tim, Megan, Steven]"
   ]
  },
  {
   "cell_type": "code",
   "execution_count": 58,
   "metadata": {
    "collapsed": false
   },
   "outputs": [
    {
     "name": "stdout",
     "output_type": "stream",
     "text": [
      "Hi, I am Lexi, I am a student at Yale\n",
      "Lexi's gpa is 3.500000\n",
      "Hi, I am Mike, I am a student at UConn\n",
      "Mike's gpa is 3.900000\n",
      "Hi, I am Rachel, I am a student at Yale\n",
      "Rachel's gpa is 3.600000\n",
      "Hi, I am Stephanie, I am a student at Southern\n",
      "Stephanie's gpa is 2.900000\n",
      "Hi, I am Tim, I am a student at University of New Haven\n",
      "Tim's gpa is 3.500000\n",
      "Hi, I am Megan, I am a student at Yale\n",
      "Megan's gpa is 2.200000\n",
      "Hi, I am Steven, I am a student at Connecticut College\n",
      "Steven's gpa is 3.400000\n"
     ]
    }
   ],
   "source": [
    "for student in students:\n",
    "    print student\n",
    "    print \"%s's gpa is %f\" % (student.name, student.gpa)"
   ]
  },
  {
   "cell_type": "code",
   "execution_count": 62,
   "metadata": {
    "collapsed": false
   },
   "outputs": [
    {
     "name": "stdout",
     "output_type": "stream",
     "text": [
      "3.28571428571\n"
     ]
    }
   ],
   "source": [
    "avg_gpa = 0\n",
    "for student in students:\n",
    "    avg_gpa += student.gpa\n",
    "print avg_gpa / len(students)"
   ]
  },
  {
   "cell_type": "code",
   "execution_count": 63,
   "metadata": {
    "collapsed": true
   },
   "outputs": [],
   "source": [
    "%matplotlib inline\n",
    "import matplotlib.pyplot as plt"
   ]
  },
  {
   "cell_type": "code",
   "execution_count": 75,
   "metadata": {
    "collapsed": false
   },
   "outputs": [
    {
     "data": {
      "text/plain": [
       "<matplotlib.text.Text at 0x1133e19d0>"
      ]
     },
     "execution_count": 75,
     "metadata": {},
     "output_type": "execute_result"
    },
    {
     "data": {
      "image/png": "[encoded data removed]",
      "text/plain": [
       "<matplotlib.figure.Figure at 0x113749790>"
      ]
     },
     "metadata": {},
     "output_type": "display_data"
    }
   ],
   "source": [
    "# scatter plot year vs gpa\n",
    "fig, ax = plt.subplots()\n",
    "years = []\n",
    "gpas = []\n",
    "for student in students:\n",
    "    years.append(student.year)\n",
    "    gpas.append(student.gpa)\n",
    "ax.scatter(years,gpas)\n",
    "ax.set_xlabel(\"Year\")\n",
    "ax.set_ylabel(\"GPA\")"
   ]
  },
  {
   "cell_type": "code",
   "execution_count": null,
   "metadata": {
    "collapsed": true
   },
   "outputs": [],
   "source": []
  }
 ],
 "metadata": {
  "kernelspec": {
   "display_name": "Python 2",
   "language": "python",
   "name": "python2"
  },
  "language_info": {
   "codemirror_mode": {
    "name": "ipython",
    "version": 2
   },
   "file_extension": ".py",
   "mimetype": "text/x-python",
   "name": "python",
   "nbconvert_exporter": "python",
   "pygments_lexer": "ipython2",
   "version": "2.7.9"
  }
 },
 "nbformat": 4,
 "nbformat_minor": 0
}
