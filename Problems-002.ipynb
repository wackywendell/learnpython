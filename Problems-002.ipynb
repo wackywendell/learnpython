{
 "cells": [
  {
   "cell_type": "markdown",
   "metadata": {},
   "source": [
    "### 1) Write a function that returns `True` if a number is divisible by both 3 AND 5.\n",
    "\n",
    "You may want to remember the remainder operator, `%`, that `==` is a test for equality, and that `x and y` will check if both `x` and `y` are `True`:\n",
    "\n",
    "```python\n",
    ">>> x = 4\n",
    ">>> y = 4\n",
    ">>> x == y\n",
    "True\n",
    ">>> are_xy_equal = (x == y)\n",
    ">>> are_xy_equal\n",
    "True\n",
    ">>> z = 6\n",
    ">>> x == z\n",
    "False\n",
    ">>> are_xz_equal = (x == z)\n",
    ">>> are_xz_equal\n",
    "False\n",
    ">>> are_xy_equal and are_xz_equal\n",
    "False\n",
    "```\n",
    "\n",
    "Use this to help you write the above function.\n",
    "\n",
    "##### Example output:\n",
    "\n",
    "```python\n",
    ">>> is_divisible(4)\n",
    "False\n",
    ">>> is_divisible(3)\n",
    "False\n",
    ">>> is_divisible(9)\n",
    "False\n",
    ">>> is_divisible(15)\n",
    "True\n",
    ">>> is_divisible(75)\n",
    "True\n",
    "```"
   ]
  },
  {
   "cell_type": "markdown",
   "metadata": {},
   "source": [
    "### 2) Write a function that returns the \"norm\" of an array.\n",
    "\n",
    "The \"norm\" of a vector is equal to the square root of the sum of its components squared. For a vector `r = [x, y, z]`, for example, the \"norm\" would be $\\left|r\\right| = \\sqrt{x^2 + y^2 + z^2}$.\n",
    "\n",
    "You may want to look into the functions [`sqrt`](http://docs.scipy.org/doc/numpy/reference/generated/numpy.sqrt.html) and [`sum`](http://docs.scipy.org/doc/numpy/reference/generated/numpy.sum.html).\n",
    "\n",
    "##### Example output:\n",
    "\n",
    "```python\n",
    ">>> x = array([3, 4, 0])\n",
    ">>> norm(x)\n",
    "5.0\n",
    ">>> x = array([3, 4, 5])\n",
    ">>> norm(x)\n",
    "7.0710678118654755\n",
    "```"
   ]
  },
  {
   "cell_type": "markdown",
   "metadata": {},
   "source": [
    "### 3) Write a function that returns the distance between two points.\n",
    "\n",
    "Remember that for two vectors $r_2 = \\left(x_0, y_0, z_0\\right), r_1 = \\left(x_1, y_1, z_1\\right)$, the distance between them is $d = \\sqrt{(x_1 - x_0)^2 + (y_1 - y_0)^2 + (z_1 - z_0)^2}$.\n",
    "\n",
    "Also note that `norm(r) = distance(r, [0, 0, 0])`, by definition.\n",
    "\n",
    "##### Example output:\n",
    "\n",
    "```python\n",
    ">>> x = array([10, 10, 10])\n",
    ">>> y = array([13, 14, 10])\n",
    ">>> distance(x, y)\n",
    "5.0\n",
    ">>> y = array([13, 14, 15])\n",
    ">>> distance(x, y)\n",
    "7.0710678118654755\n",
    "```"
   ]
  },
  {
   "cell_type": "markdown",
   "metadata": {},
   "source": [
    "### 4: Challenge) Use the image we loaded in class to determine a distance calibration for a microscope. \n",
    "\n",
    "If I told you that 1 repeat of \"black line, white line\" was 1 millimeter, can you determine the distance in millimeters that corresponds to each pixel?  What is the resolution in these imaging conditions?\n",
    "\n",
    "The data file is available [here](data/sizeCalibration.txt), and an example of how to load and use it is at the end of [Workshop 2](002-Basic_Python.html)."
   ]
  }
 ],
 "metadata": {
  "kernelspec": {
   "display_name": "Python 3",
   "language": "python",
   "name": "python3"
  },
  "language_info": {
   "codemirror_mode": {
    "name": "ipython",
    "version": 3
   },
   "file_extension": ".py",
   "mimetype": "text/x-python",
   "name": "python",
   "nbconvert_exporter": "python",
   "pygments_lexer": "ipython3",
   "version": "3.5.0"
  }
 },
 "nbformat": 4,
 "nbformat_minor": 0
}
