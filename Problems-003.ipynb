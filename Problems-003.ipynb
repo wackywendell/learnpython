{
 "cells": [
  {
   "cell_type": "markdown",
   "metadata": {},
   "source": [
    "### 3) Write a program that finds all the factors of a number.\n",
    "\n",
    "Your function should return a list of all the numbers less than $n$ that $n$ is divisible by.\n",
    "\n",
    "##### Example output:\n",
    "\n",
    "```python\n",
    ">>> get_factors(7)\n",
    "[1, 7]\n",
    ">>> get_factors(12)\n",
    "[1, 2, 3, 4, 6, 12]\n",
    "```\n",
    "\n",
    "##### Hints:\n",
    "\n",
    "You can use `for i in range(n, m+1):` to loop over all numbers between `n` and `m` inclusively.\n",
    "\n",
    "To check if `x` is divisible by `y`, you can use the [modulo](https://en.wikipedia.org/wiki/Modulo_operation) (or remainder) operator:\n",
    "\n",
    "```python\n",
    ">>> 12 % 3 == 0\n",
    "True\n",
    ">>> 12 % 5 == 0\n",
    "False\n",
    "```"
   ]
  },
  {
   "cell_type": "markdown",
   "metadata": {},
   "source": [
    "#### 3b) Write a function that tests if a number is prime.\n",
    "\n",
    "Remember that a number is _prime_ if its only two factors are 1 and itself.\n",
    "\n",
    "\n",
    "\n",
    "##### Example output:\n",
    "\n",
    "```python\n",
    ">>> is_prime(7)\n",
    "True\n",
    ">>> is_prime(12)\n",
    "False\n",
    "```\n",
    "\n",
    "##### Hints:\n",
    "\n",
    "You can use the `get_factors` function we defined above!"
   ]
  },
  {
   "cell_type": "markdown",
   "metadata": {},
   "source": [
    "#### 3c) Print all the prime numbers less than 100.\n",
    "\n",
    "##### Example output:\n",
    "\n",
    "```\n",
    "2\n",
    "3\n",
    "5\n",
    "7\n",
    "11\n",
    "13\n",
    "17\n",
    "19\n",
    "...\n",
    "```"
   ]
  }
 ],
 "metadata": {
  "kernelspec": {
   "display_name": "Python 3",
   "language": "python",
   "name": "python3"
  },
  "language_info": {
   "codemirror_mode": {
    "name": "ipython",
    "version": 3
   },
   "file_extension": ".py",
   "mimetype": "text/x-python",
   "name": "python",
   "nbconvert_exporter": "python",
   "pygments_lexer": "ipython3",
   "version": "3.5.0"
  }
 },
 "nbformat": 4,
 "nbformat_minor": 0
}
