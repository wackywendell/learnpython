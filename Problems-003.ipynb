{
 "cells": [
  {
   "cell_type": "markdown",
   "metadata": {},
   "source": [
    "### 1) Extending the Heaviside function to arrays\n",
    "In class we defined the Heavside function in python as ```step(x)```. Unfortunaley it does not work on arrays yet, meaning if the input ```x``` is an array python will return an error. Use your method of choice (smart indexing or for loops) to redefine ```step(x)``` as ```better_step(x)``` such that it will work on arrays too. You may use your own definition of ```step(x)``` or you can use the one provided below."
   ]
  },
  {
   "cell_type": "markdown",
   "metadata": {},
   "source": [
    "```python\n",
    "def step(x):\n",
    "    \"This is the Heaviside step function. It returns 0 for x values below 0, 1/2 for x = 0, and 1 for x > 0.\"\n",
    "    if x < 0:\n",
    "        return 0\n",
    "    elif x == 0:\n",
    "        return 0.5\n",
    "    else:\n",
    "        return 1   \n",
    "```\n",
    "\n",
    "##### Check your function by plotting the output in the range from -1 to +1:\n",
    "```python\n",
    "x = linspace(-1,1,num = 1000)\n",
    "y = better_step(x)\n",
    "plot(x,y,'o')\n",
    "```\n"
   ]
  },
  {
   "cell_type": "markdown",
   "metadata": {},
   "source": [
    "### 2) Shopping list for pumpkin pie\n",
    "It is fall season - time to bake a pumkin pie! Because I don't really remember what goes into a pumpkin pie, I looked up a [recipe](https://urldefense.proofpoint.com/v2/url?u=http-3A__allrecipes.com_recipe_23439_perfect-2Dpumpkin-2Dpie_&d=AwICAg&c=-dg2m7zWuuDZ0MUcV7Sdqw&r=k7fXNW4lSZrEhgTU5f4Y0v35SE8Q4riiMd9xs-2HhnY&m=n104r367VBOQj0xmLV62LTqwaqNiInTn30PcwQKy6uk&s=rSnmkxuuIwHCLKqsyN5OAIE-80YcaaxEBTbNKLqAKTM&e= ). We can keep the needed ingredients in a pyhton list of strings.\n",
    "```python\n",
    "ingredients = [\"pumpkin\",\"sweetened condensed milk\",\"eggs\",\"cinnamon\",\"ginger\",\"nutmeg\",\"salt\",\"pie crust\"]\n",
    "```\n",
    "It turns out I have a bunch of stuff in ```stock```, but not all of it can be used for making my pie. \n",
    "```python\n",
    "stock = [\"chair\",\"salt\",\"milk\",\"eggs\",\"flour\",\"lemon juice\",\"frozen fish\",\"apples\",\"sugar\",\"dish washing soap\",\"sweetened condensed milk\",\"ginger\",\"garlic\",\"pumpkin\",\"potatoes\"]\n",
    "```\n",
    "\n",
    "#### 2a) What do I need to buy?\n",
    "Write a function ```shoppinglist(ingredients,stock)``` that will return a list with all the items that I need for the pie but I don't have in ```stock```.\n",
    "\n",
    "#### 2b) What's left in stock?\n",
    "Write a function ```update_stock``` that removes all items from stock that I will be using for the pie. The function should return an updated ```stock``` list. Assume that an item gets used up entirely when I bake my pie."
   ]
  },
  {
   "cell_type": "markdown",
   "metadata": {},
   "source": [
    "### 3) Finding Prime numbers\n",
    "\n",
    "#### 3a) Write a program that finds all the factors of a number.\n",
    "\n",
    "Your function should return a list of all the numbers less than $n$ that $n$ is divisible by.\n",
    "\n",
    "##### Example output:\n",
    "\n",
    "```python\n",
    ">>> get_factors(7)\n",
    "[1, 7]\n",
    ">>> get_factors(12)\n",
    "[1, 2, 3, 4, 6, 12]\n",
    "```\n",
    "\n",
    "##### Hints:\n",
    "\n",
    "You can use `for i in range(n, m+1):` to loop over all numbers between `n` and `m` inclusively.\n",
    "\n",
    "To check if `x` is divisible by `y`, you can use the [modulo](https://urldefense.proofpoint.com/v2/url?u=https-3A__en.wikipedia.org_wiki_Modulo-5Foperation&d=AwIGaQ&c=-dg2m7zWuuDZ0MUcV7Sdqw&r=RIqg6vJ5D0Lat9AOeov1jmQMAePXaMOifaIeBhvrRlY&m=zNpGYtDMWepq1j92728TD6ilikxNimHGlFG4q25WGCs&s=xjp_G4N1Aq1MNqpAhNosCsxIl8yYDeAuVAIwPf8mIrw&e= ) (or remainder) operator:\n",
    "\n",
    "```python\n",
    ">>> 12 % 3 == 0\n",
    "True\n",
    ">>> 12 % 5 == 0\n",
    "False\n",
    "```"
   ]
  },
  {
   "cell_type": "markdown",
   "metadata": {},
   "source": [
    "#### 3b) Write a function that tests if a number is prime.\n",
    "\n",
    "Remember that a number is _prime_ if its only two factors are 1 and itself.\n",
    "\n",
    "\n",
    "\n",
    "##### Example output:\n",
    "\n",
    "```python\n",
    ">>> is_prime(7)\n",
    "True\n",
    ">>> is_prime(12)\n",
    "False\n",
    "```\n",
    "\n",
    "##### Hints:\n",
    "\n",
    "You can use the `get_factors` function we defined above!"
   ]
  },
  {
   "cell_type": "markdown",
   "metadata": {},
   "source": [
    "#### 3c) Print all the prime numbers less than 100.\n",
    "\n",
    "##### Example output:\n",
    "\n",
    "```\n",
    "2\n",
    "3\n",
    "5\n",
    "7\n",
    "11\n",
    "13\n",
    "17\n",
    "19\n",
    "...\n",
    "```"
   ]
  },
  {
   "cell_type": "markdown",
   "metadata": {},
   "source": [
    "### 4) Smiley competition\n"
   ]
  },
  {
   "cell_type": "markdown",
   "metadata": {
    "collapsed": true
   },
   "source": [
    "_Coming soon!_"
   ]
  }
 ],
 "metadata": {
  "kernelspec": {
   "display_name": "Python 3",
   "language": "python",
   "name": "python3"
  },
  "language_info": {
   "codemirror_mode": {
    "name": "ipython",
    "version": 3
   },
   "file_extension": ".py",
   "mimetype": "text/x-python",
   "name": "python",
   "nbconvert_exporter": "python",
   "pygments_lexer": "ipython3",
   "version": "3.5.0"
  }
 },
 "nbformat": 4,
 "nbformat_minor": 0
}
