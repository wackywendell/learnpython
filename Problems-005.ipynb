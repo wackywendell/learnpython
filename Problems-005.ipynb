{
 "cells": [
  {
   "cell_type": "markdown",
   "metadata": {},
   "source": [
    "### 1) Create a class for Student\n",
    "\n",
    "attributes to include: name, age, school, major, gpa, class year\n",
    "\n",
    "optional challenge: create a class for Person that a student inherits (hint: what attributes do a person and student share? which are not necessary to describe a person?)\n",
    "\n",
    "#### 2) Add a string function that includes any interesting attributes. \n",
    "Example: \"Hi, I'm Lexi and I am 23 years old\"\n",
    "\n",
    "#### 3) Add a function to compute years until graduation. Feel free to assume a maximum number of years until graduation even though it is not always true for graduate students. \n",
    "\n",
    "#### 4) Create a list of students.\n",
    "\n",
    "#### 5) Iterate over the list using a for loop and print name, school, gpa and any other attributes you find interesting\n",
    "\n",
    "#### 6) Compute the average gpa for all of the students using a for loop\n",
    "\n",
    "#### 7) Using the matplotlib class, make a scatter plot of year vs gpa.\n",
    "\n",
    "#### 8) Using the matplotlib class, add labels to both axes."
   ]
  }
 ],
 "metadata": {
  "kernelspec": {
   "display_name": "Python 3",
   "language": "python",
   "name": "python3"
  },
  "language_info": {
   "codemirror_mode": {
    "name": "ipython",
    "version": 3
   },
   "file_extension": ".py",
   "mimetype": "text/x-python",
   "name": "python",
   "nbconvert_exporter": "python",
   "pygments_lexer": "ipython3",
   "version": "3.5.0"
  }
 },
 "nbformat": 4,
 "nbformat_minor": 0
}
