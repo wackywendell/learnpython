{
 "cells": [
  {
   "cell_type": "markdown",
   "metadata": {},
   "source": [
    "## 1) Plot the airports\n",
    "\n",
    "There are three airports in New York:\n",
    "\n",
    " - Newark, 40.69°, -74.174°\n",
    " - JFK, at 40.641°, -73.778°\n",
    " - LaGuardia, at 40.777°, -73.874°\n",
    "\n",
    "Modify your `taxi_plot.py` ([example here](taxi_plot.py)) script to add the three New York City Airports to the plot your script produces."
   ]
  },
  {
   "cell_type": "markdown",
   "metadata": {},
   "source": [
    "## 2) Parsing command-line arguments\n",
    "\n",
    "Right now, we run `python3 taxi_plot.py`, and it already knows where the data file is, and where the output should go. What if, however, you got the same data file every day, and needed to make a new plot every day?\n",
    "\n",
    "Modify your script so that it takes two filenames, the one for the input data file, and the one for the plot output file, so that you can run it like this:\n",
    "\n",
    "```bash\n",
    "python3 taxi_plot.py data/taxirides.csv.zip data/taxi_rides.png\n",
    "```\n",
    "\n",
    "I suggest reading the [documentation](https://docs.python.org/3/library/argparse.html) for the `argparse`  module, and using that."
   ]
  },
  {
   "cell_type": "markdown",
   "metadata": {
    "collapsed": true
   },
   "source": [
    "## 3) Trip Data Analysis\n",
    "\n",
    "In this problem we want to take a closer look at the trip distance data. Load the taxidata set as ```data```. The taxidata table comes with information about pickup/dropoff locations as long/lat pairs as well as the trip distance logged by the taxi.\n",
    "\n",
    "We want to compare the distance logged by the taxi in ```data.trip_distance``` to two different ways of computing distances from the pickup/dropoff location.\n",
    "\n",
    "* The first way of computing a distance is simply by drawing a straight line between the dropoff and pickup locations. This distance is approximately the euclidean distance between the two points, neglecting the curvature of the earth. you can compute the euclidean distance between two long/lat pairs by using the following function:\n",
    "\n",
    "```python\n",
    "def euclidean_dist(long0,long1,lat0,lat1 ,unit = 'miles'):\n",
    "    '''approximate the euclidean (direct) distance between two lat/long pairs in miles or km'''\n",
    "    d = np.sqrt((long1-long0)**2+(lat1-lat0)**2)\n",
    "    if unit == 'km':\n",
    "        #there are approximately 111km between points on the surface of the earth if they are separated by 1 degree\n",
    "        d *= 111.\n",
    "    elif unit == 'miles':\n",
    "        #there are 0.621371 miles per km\n",
    "        d *= 111.*0.621371\n",
    "    else:\n",
    "        print(\"function can only use 'km' or 'miles' as units\")\n",
    "        return\n",
    "    \n",
    "    return d\n",
    "```\n",
    "\n",
    "* Another way of computing a distance is by using the [manhattan distance](https://en.wikipedia.org/wiki/Taxicab_geometry) between the dropoff and pickup locations. This distance is just the sum of the absolut values of horizontal and vertical differences between the two points. You can compute the manhattan distance between two long/lat pairs by using the following function:\n",
    "\n",
    "```python\n",
    "def manhattan_dist(long0,long1,lat0,lat1 ,unit = 'miles'):\n",
    "    '''approximate the manhattan distance between two lat/long pairs in miles or km'''\n",
    "    d = np.abs(long1-long0) + np.abs(lat1-lat0)\n",
    "    if unit == 'km':\n",
    "        #there are approximately 111km between points on the surface of the earth if they are separated by 1 degree\n",
    "        d *= 111.\n",
    "    elif unit == 'miles':\n",
    "        #there are 0.621371 miles per km\n",
    "        d *= 111.*0.621371\n",
    "    else:\n",
    "        print(\"function can only use 'km' or 'miles' as units\")\n",
    "        return\n",
    "    \n",
    "    return d    \n",
    "```\n",
    "\n",
    "1) Create the columns ```data.euclid_dist``` and ```data.manhattan_dist``` by applying the above defined functions to your dropoff/pickup data\n",
    "\n",
    "2) Histogram all three distance columns ```data.trip_distance, data.euclid_dist, data.manhattan_dist```. Choose appropriate bins like in class (exclude trips over 100 miles or a distance of your liking). Can you tell a difference between the three distributions? What are there mean and median distances?\n",
    "\n",
    "3) Let's compare the two distance functions to the taxi-logged distance.\n",
    "\n",
    "* Focus on only very short trips (less than 3 miles). Which way of computing the distance between the two lat/long pairs is closest to the taxi-logged distance?\n",
    "\n",
    "* Focus on only large trips (more than than 20 miles). Which way of computing the distance between the two lat/long pairs is closest to the taxi-logged distance?\n",
    "\n",
    "Can you explain your findings from above?"
   ]
  }
 ],
 "metadata": {
  "kernelspec": {
   "display_name": "Python 3",
   "language": "python",
   "name": "python3"
  },
  "language_info": {
   "codemirror_mode": {
    "name": "ipython",
    "version": 3
   },
   "file_extension": ".py",
   "mimetype": "text/x-python",
   "name": "python",
   "nbconvert_exporter": "python",
   "pygments_lexer": "ipython3",
   "version": "3.5.0"
  }
 },
 "nbformat": 4,
 "nbformat_minor": 0
}
