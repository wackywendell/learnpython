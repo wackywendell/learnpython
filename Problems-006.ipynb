{
 "cells": [
  {
   "cell_type": "markdown",
   "metadata": {},
   "source": [
    "## 1) Plot the airports\n",
    "\n",
    "There are three airports in New York:\n",
    "\n",
    " - Newark, 40.69°, -74.174°\n",
    " - JFK, at 40.641°, -73.778°\n",
    " - LaGuardia, at 40.777°, -73.874°\n",
    "\n",
    "Modify your `taxi_plot.py` ([example here](taxi_plot.py)) script to add the three New York City Airports to the plot your script produces."
   ]
  },
  {
   "cell_type": "markdown",
   "metadata": {},
   "source": [
    "## 2) Parsing command-line arguments\n",
    "\n",
    "Right now, we run `python3 taxi_plot.py`, and it already knows where the data file is, and where the output should go. What if, however, you got the same data file every day, and needed to make a new plot every day?\n",
    "\n",
    "Modify your script so that it takes two filenames, the one for the input data file, and the one for the plot output file, so that you can run it like this:\n",
    "\n",
    "```bash\n",
    "python3 taxi_plot.py data/taxirides.csv.zip data/taxi_rides.png\n",
    "```\n",
    "\n",
    "I suggest reading the [documentation](https://docs.python.org/3/library/argparse.html) for the `argparse`  module, and using that."
   ]
  },
  {
   "cell_type": "code",
   "execution_count": null,
   "metadata": {
    "collapsed": true
   },
   "outputs": [],
   "source": []
  }
 ],
 "metadata": {
  "kernelspec": {
   "display_name": "Python 3",
   "language": "python",
   "name": "python3"
  },
  "language_info": {
   "codemirror_mode": {
    "name": "ipython",
    "version": 3
   },
   "file_extension": ".py",
   "mimetype": "text/x-python",
   "name": "python",
   "nbconvert_exporter": "python",
   "pygments_lexer": "ipython3",
   "version": "3.5.0"
  }
 },
 "nbformat": 4,
 "nbformat_minor": 0
}
